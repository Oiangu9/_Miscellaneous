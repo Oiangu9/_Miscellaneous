{
 "cells": [
  {
   "cell_type": "code",
   "execution_count": 1,
   "id": "48cf1250",
   "metadata": {},
   "outputs": [],
   "source": [
    "use_cuda_numpy = False\n",
    "if use_cuda_numpy:\n",
    "    import numpy as np\n",
    "    import matplotlib.pyplot as plt\n",
    "    import cupy as cnp\n",
    "    from time import time\n",
    "    import os\n",
    "    \n",
    "else:\n",
    "    import numpy as cnp\n",
    "    import numpy as np\n",
    "    import matplotlib.pyplot as plt\n",
    "    from time import time\n",
    "    import os"
   ]
  },
  {
   "cell_type": "markdown",
   "id": "e01805f2",
   "metadata": {},
   "source": [
    "# $M$, $ND$ Newtonain Interacting Universe Simulator"
   ]
  },
  {
   "cell_type": "markdown",
   "id": "a6c1572e",
   "metadata": {},
   "source": [
    "### Routines"
   ]
  },
  {
   "cell_type": "code",
   "execution_count": 2,
   "id": "a942ee8a",
   "metadata": {},
   "outputs": [],
   "source": [
    "def get_gradient_vector_field_3D(potential_field, real_dtype, dx, dy, dz):\n",
    "    # Assumes potential_field is [Nx, Ny, Nz]\n",
    "    gradient = cnp.zeros(potential_field.shape+(3,), dtype=real_dtype)\n",
    "    # X\n",
    "    # boundaries with simple Euler formula O(dx)\n",
    "    gradient[ 0, :, :, 0] = (potential_field[1, :, :]-potential_field[0, :, :])/dx\n",
    "    gradient[ -1, :, :, 0] = (potential_field[-1, :, :]-potential_field[-2, :, :])/dx\n",
    "    # next boundaries with centered difference O(dx**2)\n",
    "    gradient[ 1,:,:, 0] = (potential_field[2,:,:]-potential_field[0,:,:])/(2*dx)\n",
    "    gradient[ -2,:,:, 0] = (potential_field[-1,:,:]-potential_field[-3,:,:])/(2*dx)\n",
    "    # rest with O(dx**4) centered difference\n",
    "    gradient[ 2:-2,:,:, 0] = (-potential_field[4:,:,:]+8*potential_field[3:-1,:,:]-8*potential_field[1:-3,:,:]+potential_field[:-4,:,:])/(12*dx)\n",
    "\n",
    "    # DY\n",
    "    # boundaries with simple Euler formula O(dx)\n",
    "    gradient[ :, 0, :, 1] = (potential_field[:,1, :]-potential_field[:,0, :])/dx\n",
    "    gradient[ :,-1, :, 1] = (potential_field[:,-1, :]-potential_field[:,-2, :])/dx\n",
    "    # next boundaries with centered difference O(dx**2)\n",
    "    gradient[ :,1,:, 1] = (potential_field[:,2,:]-potential_field[:,0,:])/(2*dx)\n",
    "    gradient[ :,-2,:, 1] = (potential_field[:,-1,:]-potential_field[:,-3,:])/(2*dx)\n",
    "    # rest with O(dx**4) centered difference\n",
    "    gradient[ :,2:-2,:, 1] = (-potential_field[:,4:,:]+8*potential_field[:,3:-1,:]-8*potential_field[:,1:-3,:]+potential_field[:,:-4,:])/(12*dx)\n",
    "\n",
    "    # DZ\n",
    "    # boundaries with simple Euler formula O(dx)\n",
    "    gradient[ :,:,0, 2] = (potential_field[:,:,1]-potential_field[:,:,0])/dx\n",
    "    gradient[ :,:,-1, 2] = (potential_field[:,:,-1]-potential_field[:,:,-2])/dx\n",
    "    # next boundaries with centered difference O(dx**2)\n",
    "    gradient[ :,:,1, 2] = (potential_field[:,:,2]-potential_field[:,:,0])/(2*dx)\n",
    "    gradient[ :,:,-2, 2] = (potential_field[:,:,-1]-potential_field[:,:,-3])/(2*dx)\n",
    "    # rest with O(dx**4) centered difference\n",
    "    gradient[ :,:,2:-2, 2] = (-potential_field[:,:,4:]+8*potential_field[:,:,3:-1]-8*potential_field[:,:,1:-3]+potential_field[:,:,:-4])/(12*dx)\n",
    "    return gradient\n",
    "\n",
    "\n",
    "\n",
    "def get_gradient_vector_field_2D(potential_field, real_dtype, dx, dy):\n",
    "    # Assumes potential_field is [Nx, Ny]\n",
    "    gradient = cnp.zeros(potential_field.shape+(2,), dtype=real_dtype)\n",
    "    # X\n",
    "    # boundaries with simple Euler formula O(dx)\n",
    "    gradient[0, :, 0] = (potential_field[1, :]-potential_field[0, :])/dx\n",
    "    gradient[-1, :, 0] = (potential_field[-1, :]-potential_field[-2, :])/dx\n",
    "    # next boundaries with centered difference O(dx**2)\n",
    "    gradient[1,:, 0] = (potential_field[2,:]-potential_field[0,:])/(2*dx)\n",
    "    gradient[-2,:, 0] = (potential_field[-1,:]-potential_field[-3,:])/(2*dx)\n",
    "    # rest with O(dx**4) centered difference\n",
    "    gradient[2:-2,:, 0] = (-potential_field[4:,:]+8*potential_field[3:-1,:]-8*potential_field[1:-3,:]+potential_field[:-4,:])/(12*dx)\n",
    "\n",
    "    # DY\n",
    "    # boundaries with simple Euler formula O(dx)\n",
    "    gradient[:, 0, 1] = (potential_field[:,1]-potential_field[:,0])/dy\n",
    "    gradient[:,-1, 1] = (potential_field[:,-1]-potential_field[:,-2])/dy\n",
    "    # next boundaries with centered difference O(dx**2)\n",
    "    gradient[:,1, 1] = (potential_field[:,2]-potential_field[:,0])/(2*dy)\n",
    "    gradient[:,-2, 1] = (potential_field[:,-1]-potential_field[:,-3])/(2*dy)\n",
    "    # rest with O(dx**4) centered difference\n",
    "    gradient[:,2:-2, 1] = (-potential_field[:,4:]+8*potential_field[:,3:-1]-8*potential_field[:,1:-3]+potential_field[:,:-4])/(12*dy)\n",
    "    return gradient\n",
    "\n",
    "def get_gradient_vector_field_1D(potential_field, real_dtype, dx):\n",
    "    # Assumes potential_field is [Nx]\n",
    "    gradient = cnp.zeros(potential_field.shape+(1,), dtype=real_dtype)\n",
    "    # X\n",
    "    # boundaries with simple Euler formula O(dx)\n",
    "    gradient[0,0] = (potential_field[1]-potential_field[0])/dx\n",
    "    gradient[-1,0] = (potential_field[-1]-potential_field[-2])/dx\n",
    "    # next boundaries with centered difference O(dx**2)\n",
    "    gradient[1,0] = (potential_field[2]-potential_field[0])/(2*dx)\n",
    "    gradient[-2,0] = (potential_field[-1]-potential_field[-3])/(2*dx)\n",
    "    # rest with O(dx**4) centered difference\n",
    "    gradient[2:-2,0] = (-potential_field[4:]+8*potential_field[3:-1]-8*potential_field[1:-3]+potential_field[:-4])/(12*dx)\n",
    "    return gradient\n",
    "\n",
    "\n",
    "def interpolate_traj_force_from_force_field_3D(trajs, force_field):\n",
    "    # if no trajectory surpasses below the node 0 or J-1 at any time, \n",
    "    # traj will always be among (0,J-1) and traj//dxs will be among [0,J-1]\n",
    "    trajs_idxs = (((trajs[:,:3]-xlowers)//dxs).T).astype(cnp.uint) # [3, numTrajs] the closest index from below along each axis\n",
    "    # relative distance to the closest index from below point along each dimension\n",
    "    # the closer, the bigger its weight should be for the trajectory propagation\n",
    "    ratx_down = ((trajs[:,0]-xs[ trajs_idxs[0] ])/(xs[ trajs_idxs[0]+1 ]-xs[ trajs_idxs[0] ]))[:,cnp.newaxis]\n",
    "    raty_down = ((trajs[:,1]-ys[ trajs_idxs[1] ])/(ys[ trajs_idxs[1]+1 ]-ys[ trajs_idxs[1] ]))[:,cnp.newaxis]\n",
    "    ratz_down = ((trajs[:,2]-zs[ trajs_idxs[2] ])/(zs[ trajs_idxs[2]+1 ]-zs[ trajs_idxs[2] ]))[:,cnp.newaxis]\n",
    "    # Get the interpolated force\n",
    "    return ratx_down*raty_down*ratz_down* force_field[ trajs_idxs[0]+1, trajs_idxs[1]+1, trajs_idxs[2]+1 ] +\\\n",
    "        (1-ratx_down)*raty_down*ratz_down* force_field[ trajs_idxs[0], trajs_idxs[1]+1, trajs_idxs[2]+1 ] +\\\n",
    "        ratx_down*(1-raty_down)*ratz_down* force_field[ trajs_idxs[0]+1, trajs_idxs[1], trajs_idxs[2]+1 ] +\\\n",
    "        ratx_down*raty_down*(1-ratz_down)* force_field[ trajs_idxs[0]+1, trajs_idxs[1]+1, trajs_idxs[2] ] +\\\n",
    "        (1-ratx_down)*(1-raty_down)*ratz_down* force_field[ trajs_idxs[0], trajs_idxs[1], trajs_idxs[2]+1 ] +\\\n",
    "        ratx_down*(1-raty_down)*(1-ratz_down)* force_field[ trajs_idxs[0]+1, trajs_idxs[1], trajs_idxs[2] ] +\\\n",
    "        (1-ratx_down)*raty_down*(1-ratz_down)* force_field[ trajs_idxs[0], trajs_idxs[1]+1, trajs_idxs[2] ] +\\\n",
    "        (1-ratx_down)*(1-raty_down)*(1-ratz_down)* force_field[ trajs_idxs[0], trajs_idxs[1], trajs_idxs[2] ]\n",
    "    \n",
    "def interpolate_traj_force_from_force_field_2D(trajs, force_field):\n",
    "    # if no trajectory surpasses below the node 0 or J-1 at any time, \n",
    "    # traj will always be among (0,J-1) and traj//dxs will be among [0,J-1]\n",
    "    trajs_idxs = (((trajs[:,:2]-xlowers)//dxs).T).astype(cnp.uint) # [2, numTrajs] the closest index from below along each axis\n",
    "    # relative distance to the closest index from below point along each dimension\n",
    "    # the closer, the bigger its weight should be for the trajectory propagation\n",
    "    ratx_down = ((trajs[:,0]-xs[ trajs_idxs[0] ])/(xs[ trajs_idxs[0]+1 ]-xs[ trajs_idxs[0] ]))[:,cnp.newaxis]\n",
    "    raty_down = ((trajs[:,1]-ys[ trajs_idxs[1] ])/(ys[ trajs_idxs[1]+1 ]-ys[ trajs_idxs[1] ]))[:,cnp.newaxis]\n",
    "    # Interpolate momentum\n",
    "    return ratx_down*raty_down* force_field[ trajs_idxs[0]+1, trajs_idxs[1]+1 ] +\\\n",
    "        (1-ratx_down)*raty_down* force_field[ trajs_idxs[0], trajs_idxs[1]+1] +\\\n",
    "        ratx_down*(1-raty_down)* force_field[ trajs_idxs[0]+1, trajs_idxs[1] ] +\\\n",
    "        (1-ratx_down)*(1-raty_down)* force_field[ trajs_idxs[0], trajs_idxs[1]] #[numTrajs,2]\n",
    "\n",
    "\n",
    "def estimate_pdf_from_trajs(trajs, grid, sigma, real_dtype):\n",
    "    pdf = cnp.zeros(grid.shape[1:], dtype=real_dtype)\n",
    "    # vectorizing is is too memory costly, it would require\n",
    "    # one whole grid per trajectory! so better use a for loop\n",
    "    N = 1/(sigma*np.sqrt(2*np.pi)*trajs.shape[0])\n",
    "    for traj in trajs:\n",
    "        pdf+=N*cnp.exp(\n",
    "            -(grid-traj)**2/(2*sigma)**2) # for arbitrary \n",
    "    return pdf"
   ]
  },
  {
   "cell_type": "markdown",
   "id": "cfb5afaf",
   "metadata": {},
   "source": [
    "- Hacer que grid solo se use cuando es 2D o es 3D y punto. Y que por tanto el 3D y 2D tengan su plot particular.\n",
    "- Si es Universos de más dimensiones, hacer el cálculo de la pdf estimada sobre cada trayectorai con los kernels y colorear cada Universo con ese color relativo."
   ]
  },
  {
   "cell_type": "markdown",
   "id": "a075a2a1",
   "metadata": {},
   "source": [
    "### Simulation Parameters"
   ]
  },
  {
   "cell_type": "code",
   "execution_count": 3,
   "id": "cbd88a80",
   "metadata": {},
   "outputs": [
    {
     "name": "stdout",
     "output_type": "stream",
     "text": [
      "Using dt=0.001; dt_TISE=0.01 -> dt = 0.1*dt_TISE\n"
     ]
    },
    {
     "data": {
      "image/png": "[encoded data removed]",
      "text/plain": [
       "<Figure size 1200x200 with 1 Axes>"
      ]
     },
     "metadata": {},
     "output_type": "display_data"
    }
   ],
   "source": [
    "# If want to use reference TISE simulation for comparison, write\n",
    "# the same experiment name and the paths to the outputs\n",
    "exp_name = \"2D_test\"\n",
    "\n",
    "# Number precision\n",
    "complex_dtype = cnp.csingle # 64 bit #cnp.cdouble # 128 bit\n",
    "real_dtype = cnp.single # 32 bit # cnp.double # 64 bit\n",
    "\n",
    "# Time increment\n",
    "dt = 0.001\n",
    "\n",
    "# The standard deviation of the kernel gaussians\n",
    "sigma = 1\n",
    "\n",
    "TISE_path = f\"./OUTPUTS/TISE_2D/{exp_name}/\"\n",
    "# IF USING TISE DATA AS REFERENCE! ###########################################\n",
    "if TISE_path:\n",
    "    with open(f\"{TISE_path}/Settings.txt\", \"r\") as f:\n",
    "        numIts_TISE = int(f.readline().split(\"numIts \")[1])\n",
    "        dt_TISE = float(f.readline().split(\"dt \")[1])\n",
    "        outputEvery_TISE = int(f.readline().split(\"outputEvery \")[1])\n",
    "        Ns = [float(x) for x in f.readline().split(\"Ns \")[1].split('[')[1].split(']')[0].split(',')]\n",
    "        xlowers = [float(x) for x in f.readline().split(\"xlowers \")[1].split('[')[1].split(']')[0].split(',')]\n",
    "        xuppers = [float(x) for x in f.readline().split(\"xuppers \")[1].split('[')[1].split(']')[0].split(',')]\n",
    "        numDofUniv = int(f.readline().split(\"numDofUniv \")[1])\n",
    "        numDofPartic = int(f.readline().split(\"numDofPartic \")[1])\n",
    "        numTrajs = int(f.readline().split(\"numTrajs \")[1])\n",
    "        hbar = float(f.readline().split(\"hbar \")[1])\n",
    "        ms = [float(x) for x in f.readline().split(\"ms \")[1].split('[')[1].split(']')[0].split(',')]\n",
    "        f.readline() # dtype complex\n",
    "        f.readline() # dtype real\n",
    "        try:\n",
    "            K_coulomb = float(f.readline().split(\"K_coulomb \")[1])\n",
    "            qs = [float(x) for x in f.readline().split(\"qs \")[1].split('[')[1].split(']')[0].split(',')]\n",
    "        except:\n",
    "            K_coulomb = 1\n",
    "            qs=[1]*numDofPartic\n",
    "        # Tricks to match the output frames - DO NOT EDIT THIS!\n",
    "        # Adapt the chosen dt to the closest one such that it is possible to match frames\n",
    "        # That is, make them commensurate\n",
    "        if dt_TISE>dt:\n",
    "            dt=int(dt_TISE//dt)**-1*dt_TISE\n",
    "        else: # we need at least the same rate of outputs to compare one to one\n",
    "            dt=dt_TISE\n",
    "\n",
    "        print(f\"Using dt={dt:.3}; dt_TISE={dt_TISE:.3} -> dt = {dt/dt_TISE:.3}*dt_TISE\")\n",
    "\n",
    "        # Match the output number\n",
    "        outputEvery = int(dt_TISE//dt)\n",
    "\n",
    "        # Total number of iterations\n",
    "        numIts = int(numIts_TISE*(dt_TISE//dt))\n",
    "\n",
    "\n",
    "        # Time grid\n",
    "        ts = np.array([dt*j for j in range(numIts)])\n",
    "        ts_TISE = np.array([dt_TISE*j for j in range(numIts_TISE)])\n",
    "\n",
    "        fig=plt.figure(figsize=(12, 2))\n",
    "        ax=fig.add_subplot(111)\n",
    "        ax.vlines(ts[:3*int(dt_TISE//dt)], 0, 1,  label=\"Compute Newtonian time frames\", color=\"red\", linewidth=1)\n",
    "        ax.vlines(ts[:3*int(dt_TISE//dt):outputEvery], 1, 2,  label=\"Output Newtonian time frames\", color=\"black\", linewidth=1)\n",
    "        ax.vlines(ts_TISE[:3], -1, 0,  label=\"Outputted TISE time frames\", color=\"blue\", linewidth=1)\n",
    "        ax.legend()\n",
    "        ax.set_xlabel(\"t\")\n",
    "        plt.show()\n",
    "else: #####################################################################\n",
    "    # IF NOT USING TISE DATA AS REFERENCE!\n",
    "    # Number of Tangent Universes\n",
    "    numTrajs=80\n",
    "\n",
    "    # Number of Dimensions per Universe, aka configuration space\n",
    "    numDofUniv = 3\n",
    "    numDofPartic = 3\n",
    "\n",
    "    # Masses per dof\n",
    "    ms = cnp.array([1]*numDofUniv)[cnp.newaxis, :]\n",
    "\n",
    "    # Constants\n",
    "    K_coulomb=1\n",
    "    hbar = 1\n",
    "    qs=cnp.array([1]*(numDofUniv//numDofPartic))\n",
    "\n",
    "    # Intervals for calculating the wave function\n",
    "    xlowers = [-4,-4,-4]\n",
    "    xuppers = [4,4,4]\n",
    "    \n",
    "    # Spatial nodes for the pdf estimation and potential fields\n",
    "    Ns = [10,10,10] # (Nx, Ny, Nz)"
   ]
  },
  {
   "cell_type": "markdown",
   "id": "9c7c0466",
   "metadata": {},
   "source": [
    "For the potential and force fields"
   ]
  },
  {
   "cell_type": "code",
   "execution_count": 4,
   "id": "b601eaf0",
   "metadata": {},
   "outputs": [
    {
     "ename": "IndexError",
     "evalue": "list index out of range",
     "output_type": "error",
     "traceback": [
      "\u001b[0;31m---------------------------------------------------------------------------\u001b[0m",
      "\u001b[0;31mIndexError\u001b[0m                                Traceback (most recent call last)",
      "Cell \u001b[0;32mIn[4], line 2\u001b[0m\n\u001b[1;32m      1\u001b[0m \u001b[38;5;66;03m# Increments to be used per dimension\u001b[39;00m\n\u001b[0;32m----> 2\u001b[0m dxs \u001b[38;5;241m=\u001b[39m [(xuppers[j]\u001b[38;5;241m-\u001b[39mxlowers[j])\u001b[38;5;241m/\u001b[39m(Ns[j]\u001b[38;5;241m-\u001b[39m\u001b[38;5;241m1\u001b[39m) \u001b[38;5;28;01mfor\u001b[39;00m j \u001b[38;5;129;01min\u001b[39;00m \u001b[38;5;28mrange\u001b[39m(\u001b[38;5;241m3\u001b[39m)] \u001b[38;5;66;03m# (dx, dy, dz)\u001b[39;00m\n\u001b[1;32m      3\u001b[0m dx,dy,dz \u001b[38;5;241m=\u001b[39m dxs\n\u001b[1;32m      4\u001b[0m dxs \u001b[38;5;241m=\u001b[39m cnp\u001b[38;5;241m.\u001b[39marray(dxs)[cnp\u001b[38;5;241m.\u001b[39mnewaxis,:]\n",
      "Cell \u001b[0;32mIn[4], line 2\u001b[0m, in \u001b[0;36m<listcomp>\u001b[0;34m(.0)\u001b[0m\n\u001b[1;32m      1\u001b[0m \u001b[38;5;66;03m# Increments to be used per dimension\u001b[39;00m\n\u001b[0;32m----> 2\u001b[0m dxs \u001b[38;5;241m=\u001b[39m [(\u001b[43mxuppers\u001b[49m\u001b[43m[\u001b[49m\u001b[43mj\u001b[49m\u001b[43m]\u001b[49m\u001b[38;5;241m-\u001b[39mxlowers[j])\u001b[38;5;241m/\u001b[39m(Ns[j]\u001b[38;5;241m-\u001b[39m\u001b[38;5;241m1\u001b[39m) \u001b[38;5;28;01mfor\u001b[39;00m j \u001b[38;5;129;01min\u001b[39;00m \u001b[38;5;28mrange\u001b[39m(\u001b[38;5;241m3\u001b[39m)] \u001b[38;5;66;03m# (dx, dy, dz)\u001b[39;00m\n\u001b[1;32m      3\u001b[0m dx,dy,dz \u001b[38;5;241m=\u001b[39m dxs\n\u001b[1;32m      4\u001b[0m dxs \u001b[38;5;241m=\u001b[39m cnp\u001b[38;5;241m.\u001b[39marray(dxs)[cnp\u001b[38;5;241m.\u001b[39mnewaxis,:]\n",
      "\u001b[0;31mIndexError\u001b[0m: list index out of range"
     ]
    }
   ],
   "source": [
    "# Increments to be used per dimension\n",
    "dxs = [(xuppers[j]-xlowers[j])/(Ns[j]-1) for j in range(numDofUniv)] # (dx, dy, dz)\n",
    "dxs = cnp.array(dxs)[cnp.newaxis,:]\n",
    "\n",
    "#Create coordinates at which the solution will be calculated\n",
    "nodes = [cnp.linspace(xlowers[j], xuppers[j], Ns[j]) for j in range(3)] # (xs, ys, zs)\n",
    "xlowers = cnp.array(xlowers)[cnp.newaxis, :]\n",
    "xuppers = cnp.array(xuppers)[cnp.newaxis, :]\n",
    "\n",
    "# Create a node mesh\n",
    "grid=cnp.array(cnp.meshgrid(*nodes)).swapaxes(1,2) #[3,Nx,Ny,Nz]"
   ]
  },
  {
   "cell_type": "markdown",
   "id": "ad400c48",
   "metadata": {},
   "source": [
    "### Scenario\n"
   ]
  },
  {
   "cell_type": "markdown",
   "id": "3ddd7f47",
   "metadata": {},
   "source": [
    "#### Extra-Universe Forces"
   ]
  },
  {
   "cell_type": "code",
   "execution_count": 12,
   "id": "2e088c67",
   "metadata": {},
   "outputs": [],
   "source": [
    "def harmonic_external_force(trajs, K=1):\n",
    "    return -2*K*trajs[:,:numDofUniv] #[numTrajs, dofsUniv]\n",
    "\n",
    "def double_slit_external_potential_3D(xyz_grid):\n",
    "    return cnp.ones(xyz_grid.shape[1:]) #[Nx,Ny,Nz]\n",
    "\n",
    "def double_slit_external_potential_2D(xy_grid):\n",
    "    return cnp.ones(xy_grid.shape[1:]) #[Nx,Ny]\n",
    "\n",
    "def double_slit_external_potential_1D(xy_grid):\n",
    "    return cnp.ones(x_grid.shape[1:]) #[Nx]\n",
    "\n",
    "\n",
    "if numDofUniv==3:\n",
    "    potential_field = double_slit_external_potential_3D(grid) #[Nx,Ny,Nz]\n",
    "    external_force_field = get_gradient_vector_field_3D(\n",
    "                        potential_field, real_dtype,dx,dy,dz) #[Nx,Ny,Nz, 3]\n",
    "    external_force = lambda trajs: interpolate_traj_force_from_force_field_3D(\n",
    "                        trajs, force_field=external_force_field)\n",
    "\n",
    "elif numDofUniv==2:\n",
    "    potential_field = double_slit_external_potential_2D(grid) #[Nx,Ny]\n",
    "    external_force_field = get_gradient_vector_field_2D(\n",
    "                        potential_field, real_dtype,dx,dy) #[ Nx,Ny, 2]\n",
    "    external_force = lambda trajs: interpolate_traj_force_from_force_field_2D(\n",
    "                        trajs, force_field=external_force_field)\n",
    "\n",
    "else:\n",
    "    potential_field = double_slit_external_potential_1D(grid) #[Nx]\n",
    "    external_force_field = get_gradient_vector_field_1D(\n",
    "                        potential_field, real_dtype,dx) #[ Nx]  \n",
    "    external_force = lambda trajs: interpolate_traj_force_from_force_field_1D(\n",
    "                        trajs, force_field=external_force_field)\n",
    "\n",
    "scenario_forces = [\n",
    "        harmonic_external_force\n",
    "    ] # external forces"
   ]
  },
  {
   "cell_type": "markdown",
   "id": "df057b80",
   "metadata": {},
   "source": [
    "#### Inter-Particle Intra-Universe Forces\n",
    "\n",
    "- Calcular de forma vectorizada la distancia entre todo par de puntos de trajectories!\n",
    "- Hacer Coulomb asumiendo dofuniv arbitraria y hacer inter-universe adibidetxu bat\n",
    "- Ein que las trajs reboten en los bordes\n",
    "- Plotietako rutinie, alzu ein rekonstrukziño bat de la wavefunction pdf gubazun\n",
    "- Probeu dana hasta que quede bien\n",
    "- Ein funtziñoak metrikak atateko en comparativa\n",
    "- Ein pipeline para que automáticamente probeu las diferentes inter-Universe potentials!"
   ]
  },
  {
   "cell_type": "code",
   "execution_count": 13,
   "id": "043a89ec",
   "metadata": {},
   "outputs": [],
   "source": [
    "def coulomb_force(trajs, qs, numDofPartic, K):\n",
    "    numPartics = trajs.shape[1]//numDofPartic\n",
    "    trajsPerParticl = trajs.reshape(trajs.shape[0],\n",
    "                  numPartics,\n",
    "                  numDofPartic) #[numTrajs, numPartcls, dimPerParticl]\n",
    "    relativeVecsPerParticle=(trajsPerParticl[:,:,:,cnp.newaxis]-trajsPerParticl[:,cnp.newaxis,:,:].swapaxes(-2,-1)).swapaxes(-2,-1)\n",
    "    # [numTrajs, numPartcls, numPartcls, dimPerParticl] \n",
    "    # (k,i,j) is x^part_i_xik-x^part_j_xik vector [dimPerPartcl]\n",
    "    relative_distances = cnp.linalg.norm(relative_vecs, axis=-1, keepdims=True) \n",
    "    # [numTrajs, numPartcls, numPartcls, 1] \n",
    "    # to avoid self-interaction, we make the relative distance with themselves infinite\n",
    "    relative_distances[:,cnp.arange(numPartics), cnp.arange(numPartics)]=cnp.inf\n",
    "    # Compute the forces of all particles with all the rest\n",
    "    all_forces = K*relativeVecsPerParticle/relative_distances**(2+1)\n",
    "    all_forces = all_forces*qs[cnp.newaxis,:,cnp.newaxis,cnp.newaxis]*qs[cnp.newaxis,cnp.newaxis,:,cnp.newaxis] \n",
    "    # [numTrajs, numPartcls, numPartcls, dimPerParticl]\n",
    "    # +1 to make them unit vectors from i-th to j-th\n",
    "    # (k,i,j) is the force at Universe k from particle j on i-th\n",
    "    # we sum all the inter-particle forces on i-th particle of Universe k\n",
    "    total=all_forces.sum(axis=2) # sum over j-> # [numTrajs, numPartcls, dimPerParticl]\n",
    "    return total.reshape(total.shape[0],-1) #[numTrajs, dofPerUniverse]\n",
    "\n",
    "coulomb_force = lambda x1_xi1, x2_xi1 : coulomb_force(trajs,\n",
    "                                qs=qs, numDofPartic=numDofPartic, K=K_coulomb)\n",
    "\n",
    "inter_particle_forces_within_universe = [\n",
    "        #coulomb_force\n",
    "    ] # classical forces"
   ]
  },
  {
   "cell_type": "markdown",
   "id": "9089f6cb",
   "metadata": {},
   "source": [
    "#### Inter-Universe Forces"
   ]
  },
  {
   "cell_type": "code",
   "execution_count": 14,
   "id": "995cff6d",
   "metadata": {},
   "outputs": [],
   "source": [
    "def inter_universe_force(trajs, A, K):\n",
    "    relative_vecs = (trajs[:,:,None]-trajs[:,:,None].T).swapaxes(1,2)\n",
    "    # relative_vecs is [numTrajs, numTrajs, dofUniv] s.t. (i,j) is the x_xi1-x_xi2 vec\n",
    "    # that is, the vector from i-th to j-th\n",
    "    relative_distances = cnp.linalg.norm(relative_vecs, axis=-1, keepdims=True) #[numTrajs, numTrajs, 1]\n",
    "    # to avoid self-interaction, we make the relative distance with themselves infinite\n",
    "    relative_distances[cnp.arange(len(trajs)), cnp.arange(len(trajs))]=cnp.inf\n",
    "    all_forces=A*relative_vecs/relative_distances**(K+1) # [numTrajs, numTrajs, dofUniv]\n",
    "    # +1 to make them unit vectors from i-th to j-th\n",
    "    # (i,j) is the force of trajectory j on i-th\n",
    "    # we sum all the inter-universe forces on i-th\n",
    "    return all_forces.sum(axis=1) # sum over j\n",
    "\n",
    "quantum_force = lambda trajs : inter_universe_force(trajs, A=1, K=2)\n",
    "\n",
    "inter_universe_forces = [\n",
    "        quantum_force\n",
    "    ] # origin of quantum"
   ]
  },
  {
   "cell_type": "markdown",
   "id": "236296fb",
   "metadata": {},
   "source": [
    "#### Sample trajectories if not using reference simulation!"
   ]
  },
  {
   "cell_type": "code",
   "execution_count": null,
   "id": "94013a65",
   "metadata": {},
   "outputs": [],
   "source": [
    "if not TISE_path:\n",
    "    # Initial Wavefunction\n",
    "    def psi0_gaussian(x,mu, sigma, p, hbar):\n",
    "        return 1/(sigma*cnp.sqrt(2*cnp.pi))**0.5*cnp.exp(-(x-mu)**2/(4*sigma**2))*\\ \n",
    "                    cnp.exp(1j*(p*x)/hbar)\n",
    "\n",
    "    # parameters for gaussian\n",
    "    mus = [0]*numDofUniv\n",
    "    sigmas = [1]*numDofUniv\n",
    "    ps = [0]*numDofUniv\n",
    "    psi0 = lambda x,y,z: psi0_gaussian(x,y,z, mus=mus, sigmas=sigmas, ps=ps, hbar=hbar)\n",
    "    # buuf"
   ]
  },
  {
   "cell_type": "markdown",
   "id": "2ff6b22c",
   "metadata": {},
   "source": [
    "### Simulation"
   ]
  },
  {
   "cell_type": "markdown",
   "id": "9292d75d",
   "metadata": {},
   "source": [
    "Prepare Arrays"
   ]
  },
  {
   "cell_type": "code",
   "execution_count": 16,
   "id": "29189d47",
   "metadata": {},
   "outputs": [
    {
     "ename": "ValueError",
     "evalue": "operands could not be broadcast together with shapes (80,0) (1,3) ",
     "output_type": "error",
     "traceback": [
      "\u001b[0;31m---------------------------------------------------------------------------\u001b[0m",
      "\u001b[0;31mValueError\u001b[0m                                Traceback (most recent call last)",
      "Cell \u001b[0;32mIn[16], line 10\u001b[0m\n\u001b[1;32m      5\u001b[0m positions \u001b[38;5;241m=\u001b[39m cnp\u001b[38;5;241m.\u001b[39mzeros(( \u001b[38;5;241m3\u001b[39m, trajs\u001b[38;5;241m.\u001b[39mshape[\u001b[38;5;241m0\u001b[39m], trajs\u001b[38;5;241m.\u001b[39mshape[\u001b[38;5;241m1\u001b[39m]), dtype\u001b[38;5;241m=\u001b[39mreal_dtype)\n\u001b[1;32m      6\u001b[0m \u001b[38;5;66;03m#[3 (current, -1,-2), numTrajs, dof_Univ]\u001b[39;00m\n\u001b[1;32m      7\u001b[0m \n\u001b[1;32m      8\u001b[0m \u001b[38;5;66;03m# for the first time iteration we will estimate the previous position of the\u001b[39;00m\n\u001b[1;32m      9\u001b[0m \u001b[38;5;66;03m# particle using a simple Euler rule given the initial velocities\u001b[39;00m\n\u001b[0;32m---> 10\u001b[0m positions[:] \u001b[38;5;241m=\u001b[39m trajs[:, :numDofUniv]\u001b[38;5;241m-\u001b[39m\u001b[43mdt\u001b[49m\u001b[38;5;241;43m*\u001b[39;49m\u001b[43mtrajs\u001b[49m\u001b[43m[\u001b[49m\u001b[43m:\u001b[49m\u001b[43m,\u001b[49m\u001b[43m \u001b[49m\u001b[43mnumDofUniv\u001b[49m\u001b[43m:\u001b[49m\u001b[43m]\u001b[49m\u001b[38;5;241;43m/\u001b[39;49m\u001b[43mms\u001b[49m\n\u001b[1;32m     11\u001b[0m positions[\u001b[38;5;241m0\u001b[39m,:,:] \u001b[38;5;241m=\u001b[39m trajs[:, :numDofUniv] \u001b[38;5;66;03m# newest time in position 0, then 1, then 2\u001b[39;00m\n\u001b[1;32m     13\u001b[0m \u001b[38;5;66;03m# shorthand\u001b[39;00m\n",
      "\u001b[0;31mValueError\u001b[0m: operands could not be broadcast together with shapes (80,0) (1,3) "
     ]
    }
   ],
   "source": [
    "trajs = cnp.load(trajs_TISE_path+f\"/trajs_it_0_numIts_{numIts_TISE}_dt_{dt_TISE:.3}.npy\")\n",
    "# [numTrajs, 2*dof_Universe]\n",
    "\n",
    "# For the Verlet algorithm, saving at least 3 time iterations is necessary\n",
    "positions = cnp.zeros(( 3, trajs.shape[0], trajs.shape[1]), dtype=real_dtype)\n",
    "#[3 (current, -1,-2), numTrajs, dof_Univ]\n",
    "\n",
    "# for the first time iteration we will estimate the previous position of the\n",
    "# particle using a simple Euler rule given the initial velocities\n",
    "positions[:] = trajs[:, :numDofUniv]-dt*trajs[:, numDofUniv:]/ms\n",
    "positions[0,:,:] = trajs[:, :numDofUniv] # newest time in position 0, then 1, then 2\n",
    "\n",
    "# shorthand\n",
    "dt2_masses = dt**2/(ms[0,:,cnp.newaxis])\n",
    "\n",
    "# a Nx3 array (matrix) where we will save the forces in each time\n",
    "forces = cnp.zeros(positions_now.shape, dtype=real_dtype)"
   ]
  },
  {
   "cell_type": "markdown",
   "id": "fa11e71c",
   "metadata": {},
   "source": [
    "Create Directories"
   ]
  },
  {
   "cell_type": "code",
   "execution_count": null,
   "id": "f955814f",
   "metadata": {},
   "outputs": [],
   "source": [
    "os.makedirs(f\"./OUTPUTS/MIW/{exp_name}/pdf/\", exist_ok=True)\n",
    "os.makedirs(f\"./OUTPUTS/MIW/{exp_name}/trajs/\", exist_ok=True)"
   ]
  },
  {
   "cell_type": "markdown",
   "id": "cd58197c",
   "metadata": {},
   "source": [
    "Run Iterations"
   ]
  },
  {
   "cell_type": "markdown",
   "id": "939284e1",
   "metadata": {},
   "source": [
    "Ein force functionak, de forma que tan sólo pidan de comer todos los chis y dofs para el IU y el external, y o todos o por cada chi en las IP"
   ]
  },
  {
   "cell_type": "code",
   "execution_count": null,
   "id": "2604602d",
   "metadata": {},
   "outputs": [],
   "source": [
    "for it, t in enumerate(ts):\n",
    "    # Step 1, compute the total force on each dof\n",
    "    for force in scenario_forces:\n",
    "        forces = force(trajs)\n",
    "    for force in inter_particle_forces_within_universe:\n",
    "        forces += force(trajs)\n",
    "    for force in inter_universe_forces:\n",
    "        forces += force(trajs)\n",
    "        \n",
    "    # OUTPUT of current state\n",
    "    if it%plotEvery==0:\n",
    "        print(f\"\\n > It {it}/{numIts}\")\n",
    "        #trajs_numpy = cnp.asnumpy(trajs)\n",
    "        trajs_numpy = trajs\n",
    "        np.save(f\"./OUTPUTS/MIW/{exp_name}/trajs/trajs_it_{it}_numIts_{numIts}_dt_{dt:.3}.npy\",\n",
    "                trajs_numpy, allow_pickle=True) #[numTrajs, numDofUniv]\n",
    "        # Estimate pdf\n",
    "        pdf = estimate_pdf_from_trajs(trajs, grid, sigma=sigma, real_dtype=real_dtype)\n",
    "        #pdf = cnp.asnumpy(pdf)\n",
    "        np.save(f\"./OUTPUTS/MIW/{exp_name}/pdf/pdf_it_{it}_numIts_{numIts}_dt_{dt:.3}.npy\",\n",
    "                pdf, allow_pickle=True) #[Nx,Ny,Nz]\n",
    "    \n",
    "    # Step 2, compute the position of the particles in the next time\n",
    "    # first move all the positions one slot onward in time\n",
    "    positions[1:, :, :] = positions[:-1,:,:] \n",
    "    # copy in the slots from 1 to 3 the ones that were in 0 to 2\n",
    "\n",
    "    positions[0,:,:] = 2*positions[1,:,:] - positions[2,:,:] + forces*dt2_masses\n",
    "    # Copy results in trajectory array\n",
    "    traj[:, :numDofUniv] = positions[0,:,:]\n",
    "\n",
    "    # Step 3, compute the momentum in the next time for plotting purposes\n",
    "    traj[:, numDofUniv:] = traj[:,numDofUniv:]+forces*dt\n",
    "    \n",
    "    # Those trajectories that get out of bounds should bounce back by the amount they got out\n",
    "    trajs[:,:numDofUniv] = cnp.where( trajs[:,:numDofUniv]>xuppers,\n",
    "                        xuppers-(trajs[:,:numDofUniv]-xuppers) ,trajs[:,:numDofUniv] )\n",
    "    trajs[:,:numDofUniv] = cnp.where( trajs[:,:numDofUniv]<xlowers,\n",
    "                        xlowers+(xlowers-trajs[:,:numDofUniv]) ,trajs[:,:numDofUniv] )   "
   ]
  },
  {
   "cell_type": "markdown",
   "id": "2053f380",
   "metadata": {},
   "source": [
    "### Animation Generation"
   ]
  },
  {
   "cell_type": "code",
   "execution_count": 170,
   "id": "5182c849",
   "metadata": {},
   "outputs": [],
   "source": [
    "os.makedirs(f\"./OUTPUTS/MIW/{exp_name}/figs/\", exist_ok=True)\n",
    "image_paths = []\n",
    "dpi=100\n",
    "\n",
    "# The best thing would be to have a different color per\n",
    "# point in configuration space, such that trajectories that\n",
    "# come close to each other are colored similarly, \n",
    "# but this is not possible for more than 3D of configuration space!\n",
    "# because colors are generated by 3 dof!\n",
    "# so just fixed random colors shall be okay\n",
    "cmap = mpl.colormaps['hsv'].resampled(numTrajs) # one color per Universe\n",
    "color_per_Universe = cmap(np.arange(numTrajs))\n",
    "\n",
    "# Each particle will have its own marker type in the physical space\n",
    "marker_per_particle = ['o', 's', 'p', '^', 'd', '*']"
   ]
  },
  {
   "cell_type": "markdown",
   "id": "8764ba4b",
   "metadata": {},
   "source": [
    "Generate png\n",
    "\n",
    "If the physical space within each Universe is 3D"
   ]
  },
  {
   "cell_type": "code",
   "execution_count": null,
   "id": "2f55b3b9",
   "metadata": {},
   "outputs": [],
   "source": [
    "if numDofPartic==3:\n",
    "    every=1 # Only take one data point every this number in each axis to plot\n",
    "    grid=np.array(np.meshgrid(*nodes)).swapaxes(1,2)[:,::every, ::every, ::every] #[3,Nx,Ny,Nz]\n",
    "    print(f\"Using a mesh in the plot of {grid.shape}\")\n",
    "    fig = plt.figure( figsize=(14,7))\n",
    "    #plt.style.use('dark_background')\n",
    "\n",
    "    for it, t in enumerate(ts):\n",
    "        if it%outputEvery==0:\n",
    "            print(f\"\\n > It {it}/{numIts}\")\n",
    "            fig.clf()\n",
    "            pdf = np.load(f\"./OUTPUTS/MIW/{exp_name}/pdf/pdf_it_{it}_numIts_{numIts}_dt_{dt:.3}.npy\")\n",
    "            trajs = np.load(f\"./OUTPUTS/MIW/{exp_name}/trajs/trajs_it_{it}_numIts_{numIts}_dt_{dt:.3}.npy\")\n",
    "\n",
    "            ax = fig.add_subplot(121, projection='3d')\n",
    "            # PDF TRANSP ############################################################\n",
    "            maxim = pdf.max()\n",
    "            minim = pdf.min()\n",
    "            level_surface = grid[:, pdf>maxim/3]\n",
    "            colormap = ax.scatter(*level_surface, c=pdf[pdf>maxim/3],\n",
    "                    cmap='hot_r', s=2, alpha=pdf[pdf>maxim/3]/maxim ) #, antialiased=True)\n",
    "            ax.set_xlim((xlowers[0,0], xuppers[0,1]))\n",
    "            ax.set_ylim((xlowers[0,1], xuppers[0,1]))\n",
    "            ax.set_zlim((xlowers[0,2], xuppers[0,2]))\n",
    "\n",
    "            fig.colorbar(colormap, fraction=0.04, location='left')\n",
    "            ax.set_xlabel(\"x\")\n",
    "            ax.set_ylabel(\"y\")\n",
    "            ax.set_zlabel(\"z\")\n",
    "            ax.set_title(f\"Probability Density>{maxim/3:.3}\\n it={it} t={t:.4}\")\n",
    "\n",
    "            # PDF + TRAJECTORIES ##############################################\n",
    "            ax = fig.add_subplot(122, projection='3d')\n",
    "            #colormap = ax.scatter3D(*grid, c=pdf[ ::every, ::every, ::every],\n",
    "            #               cmap='hot_r', s=0.1, alpha=0.4 ) #, antialiased=True)\n",
    "            cset = ax.contour(grid[0,:,:,0], grid[1,:,:,0], pdf.sum(axis=2), 7, zdir='z', offset=xlowers[0,2], cmap='hot_r')\n",
    "            cset = ax.contour(grid[0,:,0,:], pdf.sum(axis=1), grid[2,:,0,:], 7, zdir='y', offset=xuppers[0,1], cmap='hot_r')\n",
    "            cset = ax.contour(pdf.sum(axis=0), grid[1,0,:,:], grid[2,0,:,:], 7, zdir='x', offset=xlowers[0,0], cmap='hot_r')\n",
    "            #fig.colorbar(cset, fraction=0.04, location='left')\n",
    "            ax.set_xlabel(\"x\")\n",
    "            ax.set_ylabel(\"y\")\n",
    "            ax.set_zlabel(\"z\")\n",
    "            ax.set_title(f\"Trajectories and Projected Estimated pdf Contours\\nColor==Universe; Shape==Particle\\nit={it} t={t:.4}\")\n",
    "\n",
    "            # The color will indicate Universe and marker will indicate particle\n",
    "            for particle in range(numDofUniv//numDofPartic):\n",
    "                ax.scatter(trajs[:,particle*numDofPartic], \n",
    "                        trajs[:,particle*numDofPartic+1],\n",
    "                        trajs[:,particle*numDofPartic+2], \n",
    "                       c=color_per_Universe, marker=marker_per_particle[particle],\n",
    "                       s=3, alpha=1)\n",
    "\n",
    "            image=f\"./OUTPUTS/MIW/{exp_name}/figs/it_{it}.png\"\n",
    "            plt.savefig(image, dpi=dpi)\n",
    "            image_paths.append(image)\n",
    "            plt.show()\n",
    "            break\n"
   ]
  },
  {
   "cell_type": "markdown",
   "id": "ab207412",
   "metadata": {},
   "source": [
    "Generate png\n",
    "\n",
    "If the physical space within each Universe is 2D"
   ]
  },
  {
   "cell_type": "code",
   "execution_count": null,
   "id": "92c3e346",
   "metadata": {},
   "outputs": [],
   "source": [
    "if numDofPartic==2:\n",
    "    every=1 # Only take one data point every this number in each axis to plot\n",
    "    grid=np.array(np.meshgrid(*nodes)).swapaxes(-2,-1)[:,::every, ::every] #[2,Nx::ev,Ny]\n",
    "    print(f\"Using a mesh in the plot of {grid.shape}\")\n",
    "    fig = plt.figure( figsize=(14,7))\n",
    "\n",
    "    for it, t in enumerate(ts):\n",
    "        if it%outputEvery==0:\n",
    "            print(f\"\\n > It {it}/{numIts}\")\n",
    "            fig.clf()\n",
    "            pdf = np.load(f\"./OUTPUTS/MIW/{exp_name}/pdf/pdf_it_{it}_numIts_{numIts}_dt_{dt:.3}.npy\")\n",
    "            trajs = np.load(f\"./OUTPUTS/MIW/{exp_name}/trajs/trajs_it_{it}_numIts_{numIts}_dt_{dt:.3}.npy\")\n",
    "\n",
    "            ax = fig.add_subplot(121, projection='3d')\n",
    "            maxim = pdf.max()\n",
    "            minim = pdf.min()\n",
    "            # PDF ############################################################\n",
    "            colormap = ax.plot_surface(grid[0], grid[1], pdf, rcount=50, ccount=50,\n",
    "                    cmap='RdYlBu')\n",
    "            fig.colorbar(colormap, fraction=0.04, location='left')\n",
    "            ax.set_xlabel(\"x\")\n",
    "            ax.set_ylabel(\"y\")\n",
    "            ax.set_zlabel(\"Probability Density\")\n",
    "            ax.set_title(f\"Probability Density it={it} t={t:.4}\")\n",
    "            cset = ax.contour(grid[0], grid[1], pdf, 7, zdir='x', \n",
    "                              offset=xlowers[0,0], cmap='RdYlBu', vmax=maxim, vmin=minim)\n",
    "            cset = ax.contour(grid[0], grid[1], pdf, 7, zdir='y',\n",
    "                              offset=xuppers[0,1], cmap='RdYlBu', vmax=maxim, vmin=minim)\n",
    "\n",
    "            # PDF + TRAJECTORIES ##############################################\n",
    "            ax = fig.add_subplot(122)\n",
    "            colormap = ax.imshow(pdf.T, \n",
    "                 extent=[xlowers[0,0], xuppers[0,0], xlowers[0,1], xuppers[0,1]]\n",
    "                                 , origin='lower',cmap='RdYlBu')\n",
    "            #plt.axis(aspect='image');\n",
    "            fig.colorbar(colormap, fraction=0.04, location='right')\n",
    "            ax.set_xlabel(\"x\")\n",
    "            ax.set_ylabel(\"y\")\n",
    "            ax.set_title(f\"Trajectories and Probability Density\\n it={it} t={t:.4}\")\n",
    "            # The color will indicate Universe and marker will indicate particle\n",
    "            for particle in range(numDofUniv//numDofPartic):\n",
    "                ax.scatter(trajs[:,particle*numDofPartic], \n",
    "                        trajs[:,particle*numDofPartic+1],\n",
    "                       c=color_per_Universe, marker=marker_per_particle[particle],\n",
    "                       s=3, alpha=1)\n",
    "            image=f\"./OUTPUTS/MIW/{exp_name}/figs/it_{it}.png\"\n",
    "            plt.savefig(image, dpi=dpi)\n",
    "            image_paths.append(image)"
   ]
  },
  {
   "cell_type": "markdown",
   "id": "402ce396",
   "metadata": {},
   "source": [
    "Generate png\n",
    "\n",
    "If the physical space within each Universe is 1D"
   ]
  },
  {
   "cell_type": "code",
   "execution_count": null,
   "id": "0053ae21",
   "metadata": {},
   "outputs": [],
   "source": []
  },
  {
   "cell_type": "markdown",
   "id": "08458f05",
   "metadata": {},
   "source": [
    "Generate gif"
   ]
  },
  {
   "cell_type": "code",
   "execution_count": null,
   "id": "3c8748c4",
   "metadata": {},
   "outputs": [],
   "source": []
  },
  {
   "cell_type": "markdown",
   "id": "b625c264",
   "metadata": {},
   "source": [
    "Erase png"
   ]
  },
  {
   "cell_type": "code",
   "execution_count": null,
   "id": "0ea544a9",
   "metadata": {},
   "outputs": [],
   "source": []
  },
  {
   "cell_type": "code",
   "execution_count": null,
   "id": "ece0a962",
   "metadata": {},
   "outputs": [],
   "source": []
  },
  {
   "cell_type": "code",
   "execution_count": null,
   "id": "5e9f67ec",
   "metadata": {},
   "outputs": [],
   "source": []
  },
  {
   "cell_type": "code",
   "execution_count": null,
   "id": "9fcb066e",
   "metadata": {},
   "outputs": [],
   "source": []
  },
  {
   "cell_type": "code",
   "execution_count": null,
   "id": "11d6c523",
   "metadata": {},
   "outputs": [],
   "source": []
  },
  {
   "cell_type": "code",
   "execution_count": null,
   "id": "d2503342",
   "metadata": {},
   "outputs": [],
   "source": []
  },
  {
   "cell_type": "code",
   "execution_count": 98,
   "id": "d37ff3a2",
   "metadata": {},
   "outputs": [],
   "source": [
    "trajs = np.arange(30).reshape(5,6)\n",
    "numDofPartic = 2\n",
    "trajsPerParticl = trajs.reshape(trajs.shape[0],\n",
    "                  trajs.shape[1]//numDofPartic,\n",
    "                  numDofPartic) #[numTrajs, numPartcls, dimPerParticl]\n",
    "relativeVecsPerParticle=(trajsPerParticl[:,:,:,np.newaxis]-trajsPerParticl[:,np.newaxis,:,:].swapaxes(-2,-1)).swapaxes(-2,-1)\n",
    "# [numTrajs, numPartcls, numParticls, dimPerParticl] \n",
    "# (k,i,j) is x^part_i_xik-x^part_j_xik vector [dimPerPartcl]"
   ]
  },
  {
   "cell_type": "code",
   "execution_count": 96,
   "id": "26c49313",
   "metadata": {},
   "outputs": [
    {
     "name": "stdout",
     "output_type": "stream",
     "text": [
      "[[ 0  1  2  3  4  5]\n",
      " [ 6  7  8  9 10 11]\n",
      " [12 13 14 15 16 17]\n",
      " [18 19 20 21 22 23]\n",
      " [24 25 26 27 28 29]]\n"
     ]
    }
   ],
   "source": [
    "print(trajs)\n",
    "relative_vecs = (trajs[:,:,None]-trajs[:,:,None].T).swapaxes(1,2)\n",
    "# (i,j) is the x_xi1-x_xi2 [dofUniv] vec\n",
    "relative_distances = np.linalg.norm(relative_vecs, axis=-1)"
   ]
  },
  {
   "cell_type": "code",
   "execution_count": 97,
   "id": "c837ee08",
   "metadata": {},
   "outputs": [
    {
     "data": {
      "text/plain": [
       "array([[        inf, 14.69693846, 29.39387691, 44.09081537, 58.78775383],\n",
       "       [14.69693846,         inf, 14.69693846, 29.39387691, 44.09081537],\n",
       "       [29.39387691, 14.69693846,         inf, 14.69693846, 29.39387691],\n",
       "       [44.09081537, 29.39387691, 14.69693846,         inf, 14.69693846],\n",
       "       [58.78775383, 44.09081537, 29.39387691, 14.69693846,         inf]])"
      ]
     },
     "execution_count": 97,
     "metadata": {},
     "output_type": "execute_result"
    }
   ],
   "source": [
    "relative_distances[np.arange(len(trajs)), np.arange(len(trajs))]=np.inf\n",
    "relative_distances"
   ]
  },
  {
   "cell_type": "code",
   "execution_count": 91,
   "id": "7e4faf51",
   "metadata": {},
   "outputs": [
    {
     "data": {
      "text/plain": [
       "array([[[[       inf],\n",
       "         [2.82842712],\n",
       "         [5.65685425]],\n",
       "\n",
       "        [[2.82842712],\n",
       "         [       inf],\n",
       "         [2.82842712]],\n",
       "\n",
       "        [[5.65685425],\n",
       "         [2.82842712],\n",
       "         [       inf]]],\n",
       "\n",
       "\n",
       "       [[[       inf],\n",
       "         [2.82842712],\n",
       "         [5.65685425]],\n",
       "\n",
       "        [[2.82842712],\n",
       "         [       inf],\n",
       "         [2.82842712]],\n",
       "\n",
       "        [[5.65685425],\n",
       "         [2.82842712],\n",
       "         [       inf]]],\n",
       "\n",
       "\n",
       "       [[[       inf],\n",
       "         [2.82842712],\n",
       "         [5.65685425]],\n",
       "\n",
       "        [[2.82842712],\n",
       "         [       inf],\n",
       "         [2.82842712]],\n",
       "\n",
       "        [[5.65685425],\n",
       "         [2.82842712],\n",
       "         [       inf]]],\n",
       "\n",
       "\n",
       "       [[[       inf],\n",
       "         [2.82842712],\n",
       "         [5.65685425]],\n",
       "\n",
       "        [[2.82842712],\n",
       "         [       inf],\n",
       "         [2.82842712]],\n",
       "\n",
       "        [[5.65685425],\n",
       "         [2.82842712],\n",
       "         [       inf]]],\n",
       "\n",
       "\n",
       "       [[[       inf],\n",
       "         [2.82842712],\n",
       "         [5.65685425]],\n",
       "\n",
       "        [[2.82842712],\n",
       "         [       inf],\n",
       "         [2.82842712]],\n",
       "\n",
       "        [[5.65685425],\n",
       "         [2.82842712],\n",
       "         [       inf]]]])"
      ]
     },
     "execution_count": 91,
     "metadata": {},
     "output_type": "execute_result"
    }
   ],
   "source": [
    "relative_distances = np.linalg.norm(relativeVecsPerParticle, axis=-1, keepdims=True) \n",
    "relative_distances[:,np.arange(3), np.arange(3)]=np.inf\n",
    "relative_distances"
   ]
  }
 ],
 "metadata": {
  "kernelspec": {
   "display_name": "Python 3 (ipykernel)",
   "language": "python",
   "name": "python3"
  },
  "language_info": {
   "codemirror_mode": {
    "name": "ipython",
    "version": 3
   },
   "file_extension": ".py",
   "mimetype": "text/x-python",
   "name": "python",
   "nbconvert_exporter": "python",
   "pygments_lexer": "ipython3",
   "version": "3.10.9"
  }
 },
 "nbformat": 4,
 "nbformat_minor": 5
}
